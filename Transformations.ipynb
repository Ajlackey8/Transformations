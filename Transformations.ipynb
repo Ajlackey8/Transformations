{
 "cells": [
  {
   "cell_type": "code",
   "execution_count": 13,
   "id": "25a989a4",
   "metadata": {},
   "outputs": [],
   "source": [
    "## Standard Imports\n",
    "import numpy as np\n",
    "import pandas as pd\n",
    "import matplotlib.pyplot as plt\n",
    "import seaborn as sns\n",
    "## Importing the OS and JSON Modules\n",
    "import os,json"
   ]
  },
  {
   "cell_type": "code",
   "execution_count": 10,
   "id": "24456bf7",
   "metadata": {},
   "outputs": [],
   "source": [
    "info = pd.read_csv(\"C:\\\\Users\\\\alackey\\\\Downloads\\\\superhero_info - superhero_info.csv\")\n",
    "powers = pd.read_csv(\"C:\\\\Users\\\\alackey\\\\Downloads\\\\superhero_powers - superhero_powers.csv\")"
   ]
  },
  {
   "cell_type": "code",
   "execution_count": 18,
   "id": "f766cd44",
   "metadata": {},
   "outputs": [
    {
     "data": {
      "text/html": [
       "<div>\n",
       "<style scoped>\n",
       "    .dataframe tbody tr th:only-of-type {\n",
       "        vertical-align: middle;\n",
       "    }\n",
       "\n",
       "    .dataframe tbody tr th {\n",
       "        vertical-align: top;\n",
       "    }\n",
       "\n",
       "    .dataframe thead th {\n",
       "        text-align: right;\n",
       "    }\n",
       "</style>\n",
       "<table border=\"1\" class=\"dataframe\">\n",
       "  <thead>\n",
       "    <tr style=\"text-align: right;\">\n",
       "      <th></th>\n",
       "      <th>Gender</th>\n",
       "      <th>Race</th>\n",
       "      <th>Alignment</th>\n",
       "      <th>Hair color</th>\n",
       "      <th>Eye color</th>\n",
       "      <th>Skin color</th>\n",
       "      <th>Measurements</th>\n",
       "      <th>Hero</th>\n",
       "      <th>Publisher</th>\n",
       "    </tr>\n",
       "  </thead>\n",
       "  <tbody>\n",
       "    <tr>\n",
       "      <th>0</th>\n",
       "      <td>Male</td>\n",
       "      <td>Human</td>\n",
       "      <td>good</td>\n",
       "      <td>No Hair</td>\n",
       "      <td>yellow</td>\n",
       "      <td>Unknown</td>\n",
       "      <td>{'Height': '203.0 cm', 'Weight': '441.0 kg'}</td>\n",
       "      <td>A-Bomb</td>\n",
       "      <td>Marvel Comics</td>\n",
       "    </tr>\n",
       "    <tr>\n",
       "      <th>1</th>\n",
       "      <td>Male</td>\n",
       "      <td>Icthyo Sapien</td>\n",
       "      <td>good</td>\n",
       "      <td>No Hair</td>\n",
       "      <td>blue</td>\n",
       "      <td>blue</td>\n",
       "      <td>{'Height': '191.0 cm', 'Weight': '65.0 kg'}</td>\n",
       "      <td>Abe Sapien</td>\n",
       "      <td>Dark Horse Comics</td>\n",
       "    </tr>\n",
       "    <tr>\n",
       "      <th>2</th>\n",
       "      <td>Male</td>\n",
       "      <td>Ungaran</td>\n",
       "      <td>good</td>\n",
       "      <td>No Hair</td>\n",
       "      <td>blue</td>\n",
       "      <td>red</td>\n",
       "      <td>{'Height': '185.0 cm', 'Weight': '90.0 kg'}</td>\n",
       "      <td>Abin Sur</td>\n",
       "      <td>DC Comics</td>\n",
       "    </tr>\n",
       "    <tr>\n",
       "      <th>3</th>\n",
       "      <td>Male</td>\n",
       "      <td>Human / Radiation</td>\n",
       "      <td>bad</td>\n",
       "      <td>No Hair</td>\n",
       "      <td>green</td>\n",
       "      <td>Unknown</td>\n",
       "      <td>{'Height': '203.0 cm', 'Weight': '441.0 kg'}</td>\n",
       "      <td>Abomination</td>\n",
       "      <td>Marvel Comics</td>\n",
       "    </tr>\n",
       "    <tr>\n",
       "      <th>4</th>\n",
       "      <td>Male</td>\n",
       "      <td>Human</td>\n",
       "      <td>bad</td>\n",
       "      <td>No Hair</td>\n",
       "      <td>blue</td>\n",
       "      <td>Unknown</td>\n",
       "      <td>{'Height': '193.0 cm', 'Weight': '122.0 kg'}</td>\n",
       "      <td>Absorbing Man</td>\n",
       "      <td>Marvel Comics</td>\n",
       "    </tr>\n",
       "  </tbody>\n",
       "</table>\n",
       "</div>"
      ],
      "text/plain": [
       "  Gender               Race Alignment Hair color Eye color Skin color  \\\n",
       "0   Male              Human      good    No Hair    yellow    Unknown   \n",
       "1   Male      Icthyo Sapien      good    No Hair      blue       blue   \n",
       "2   Male            Ungaran      good    No Hair      blue        red   \n",
       "3   Male  Human / Radiation       bad    No Hair     green    Unknown   \n",
       "4   Male              Human       bad    No Hair      blue    Unknown   \n",
       "\n",
       "                                   Measurements           Hero  \\\n",
       "0  {'Height': '203.0 cm', 'Weight': '441.0 kg'}         A-Bomb   \n",
       "1   {'Height': '191.0 cm', 'Weight': '65.0 kg'}     Abe Sapien   \n",
       "2   {'Height': '185.0 cm', 'Weight': '90.0 kg'}       Abin Sur   \n",
       "3  {'Height': '203.0 cm', 'Weight': '441.0 kg'}    Abomination   \n",
       "4  {'Height': '193.0 cm', 'Weight': '122.0 kg'}  Absorbing Man   \n",
       "\n",
       "           Publisher  \n",
       "0      Marvel Comics  \n",
       "1  Dark Horse Comics  \n",
       "2          DC Comics  \n",
       "3      Marvel Comics  \n",
       "4      Marvel Comics  "
      ]
     },
     "execution_count": 18,
     "metadata": {},
     "output_type": "execute_result"
    }
   ],
   "source": [
    "info.head()"
   ]
  },
  {
   "cell_type": "code",
   "execution_count": 15,
   "id": "f0259f54",
   "metadata": {},
   "outputs": [],
   "source": [
    "info[['Hero','Publisher']] = info['Hero|Publisher'].str.split('|',expand=True)"
   ]
  },
  {
   "cell_type": "code",
   "execution_count": 17,
   "id": "409d9a85",
   "metadata": {},
   "outputs": [],
   "source": [
    "info = info.drop(columns='Hero|Publisher')"
   ]
  },
  {
   "cell_type": "code",
   "execution_count": null,
   "id": "92f82c7b",
   "metadata": {},
   "outputs": [],
   "source": [
    "height_weight = info['coordinates'].apply(pd.Series)"
   ]
  }
 ],
 "metadata": {
  "kernelspec": {
   "display_name": "Python (dojo-env)",
   "language": "python",
   "name": "dojo-env"
  },
  "language_info": {
   "codemirror_mode": {
    "name": "ipython",
    "version": 3
   },
   "file_extension": ".py",
   "mimetype": "text/x-python",
   "name": "python",
   "nbconvert_exporter": "python",
   "pygments_lexer": "ipython3",
   "version": "3.8.13"
  },
  "toc": {
   "base_numbering": 1,
   "nav_menu": {},
   "number_sections": true,
   "sideBar": true,
   "skip_h1_title": false,
   "title_cell": "Table of Contents",
   "title_sidebar": "Contents",
   "toc_cell": false,
   "toc_position": {},
   "toc_section_display": true,
   "toc_window_display": false
  }
 },
 "nbformat": 4,
 "nbformat_minor": 5
}
